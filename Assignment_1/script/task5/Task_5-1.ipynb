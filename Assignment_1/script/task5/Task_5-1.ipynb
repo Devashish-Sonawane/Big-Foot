{
 "cells": [
  {
   "cell_type": "markdown",
   "id": "16effcd0-6957-4c9a-9ae7-05526734e5b7",
   "metadata": {},
   "source": [
    "***\n",
    "\n",
    "# __Notebook for Task 5-1 (Alcohol Consumption Dataset)__\n",
    "This jupyter notebook contains python code which was used to extract, clean, filter, and merge the data from Alcohol Dataset with the BFRO dataset.\n",
    "One must install Python and the Pandas library to work with this code.\n",
    "\n",
    "***\n",
    "## Source of Dataset:\n",
    "\n",
    "This dataset is published by The National Institute on Alcohol Abuse and Alcoholism (NIAAA) in April 2023. The NIAAA is a part of The National Institutes of Health (NIH). The original raw dataset for Alcohol consumption can be downloaded from: __[NIAAA Surveillance Report #120](https://www.niaaa.nih.gov/publications/surveillance-reports/surveillance120)__\n",
    "\n",
    "***\n",
    "## Directory Structure:\n",
    "\n",
    "- The original dataset is also stored in the directory:r'Big-Foot\\data\\Alcohol_Consumption''<br>\n",
    "- The processed files which are outputs of this notebook are stored in the directory: r'Big-Foot\\dataset1'<br>\n",
    "- This notebook is stored in the directory: r'Big-Foot\\script'<br>\n",
    "\n",
    "***\n",
    "## Index:\n",
    "\n",
    "1. [Importing Libraries](#1)\n",
    "2. [Defining File Paths](#2)\n",
    "3. [Extracting and Cleaning Data](#3)\n",
    "4. [Filtering Data](#4)\n",
    "5. [Sorting Data](#5)\n",
    "6. [Optional: Merge with BFFRO TSV file](#6)"
   ]
  },
  {
   "cell_type": "markdown",
   "id": "32e95d79-e307-403b-8709-f50f51dd0551",
   "metadata": {},
   "source": [
    "***\n",
    "## Importing Libraries: <a id=\"1\"></a>\n",
    "\n",
    "This notebook uses Dataframe from the Pandas Library."
   ]
  },
  {
   "cell_type": "code",
   "execution_count": 1,
   "id": "6e54c805-5d1d-4d63-a055-7c6be93e2da3",
   "metadata": {},
   "outputs": [],
   "source": [
    "import pandas as pd"
   ]
  },
  {
   "cell_type": "markdown",
   "id": "239b831d-a2f9-4d38-906e-0cec596c5477",
   "metadata": {},
   "source": [
    "***\n",
    "## Defining File Paths: <a id=\"2\"></a>\n",
    "\n",
    "We import the original dataset as input and define names for all the processed output files in this section."
   ]
  },
  {
   "cell_type": "code",
   "execution_count": 2,
   "id": "a479ba53-2c36-420c-8d47-452885a56d3e",
   "metadata": {},
   "outputs": [],
   "source": [
    "input = r'C:\\Users\\Devashish\\Big-Foot\\data\\Alcohol_Consumption\\pcyr1970-2021.txt'\n",
    "cleaned_csv = r'C:\\Users\\Devashish\\Big-Foot\\dataset1\\task5-1_cleaned.csv'\n",
    "filtered_csv = r'C:\\Users\\Devashish\\Big-Foot\\dataset1\\task5-1_filtered.csv'\n",
    "sorted_csv = r'C:\\Users\\Devashish\\Big-Foot\\dataset1\\task5-1_sorted.csv'\n",
    "output_tsv = r'C:\\Users\\Devashish\\Big-Foot\\dataset1\\final_output_task5-1.tsv'\n",
    "BFRO_tsv = r'C:\\Users\\Devashish\\Big-Foot\\dataset1\\reports_task4-e_last.tsv'\n",
    "merged_tsv = r'C:\\Users\\Devashish\\Big-Foot\\dataset1\\merged_reports_task5-1.tsv'"
   ]
  },
  {
   "cell_type": "markdown",
   "id": "927e3115-a678-4a45-953b-43d6eab1de9d",
   "metadata": {},
   "source": [
    "***\n",
    "## Extracting and Cleaning Data: <a id=\"3\"></a>\n",
    "\n",
    "This section has code which extracts and cleans the data from the original dataset. The data in original file begins from Line 130. This program is designed to extract the data from Line 130 and onwards. After extracting the data, appropriate names for columns are added as headers, and numeric values which were used as code to represent values in certain columns were re-named by making using of a dictionary."
   ]
  },
  {
   "cell_type": "code",
   "execution_count": 3,
   "id": "0b0b4206-9644-4b33-92f8-1c760c27fa9c",
   "metadata": {},
   "outputs": [],
   "source": [
    "# This is location of data in original file\n",
    "line_number = 130"
   ]
  },
  {
   "cell_type": "code",
   "execution_count": 4,
   "id": "9c09468d-1b42-4a0d-9b1d-a4f47d982019",
   "metadata": {},
   "outputs": [],
   "source": [
    "# Dictionary to change values in State Column\n",
    "fips_to_state = {\n",
    "    \"01\": \"Alabama\", \"02\": \"Alaska\", \"04\": \"Arizona\", \"05\": \"Arkansas\",\n",
    "    \"06\": \"California\", \"08\": \"Colorado\", \"09\": \"Connecticut\", \"10\": \"Delaware\",\n",
    "    \"1\": \"Alabama\", \"2\": \"Alaska\", \"4\": \"Arizona\", \"5\": \"Arkansas\", \"6\": \"California\", \"8\": \"Colorado\", \"9\": \"Connecticut\",\n",
    "    \"11\": \"District of Columbia\", \"12\": \"Florida\", \"13\": \"Georgia\", \"15\": \"Hawaii\",\n",
    "    \"16\": \"Idaho\", \"17\": \"Illinois\", \"18\": \"Indiana\", \"19\": \"Iowa\", \"20\": \"Kansas\",\n",
    "    \"21\": \"Kentucky\", \"22\": \"Louisiana\", \"23\": \"Maine\", \"24\": \"Maryland\", \"25\": \"Massachusetts\",\n",
    "    \"26\": \"Michigan\", \"27\": \"Minnesota\", \"28\": \"Mississippi\", \"29\": \"Missouri\", \"30\": \"Montana\",\n",
    "    \"31\": \"Nebraska\", \"32\": \"Nevada\", \"33\": \"New Hampshire\", \"34\": \"New Jersey\", \"35\": \"New Mexico\",\n",
    "    \"36\": \"New York\", \"37\": \"North Carolina\", \"38\": \"North Dakota\", \"39\": \"Ohio\", \"40\": \"Oklahoma\",\n",
    "    \"41\": \"Oregon\", \"42\": \"Pennsylvania\", \"44\": \"Rhode Island\", \"45\": \"South Carolina\",\n",
    "    \"46\": \"South Dakota\", \"47\": \"Tennessee\", \"48\": \"Texas\", \"49\": \"Utah\", \"50\": \"Vermont\",\n",
    "    \"51\": \"Virginia\", \"53\": \"Washington\", \"54\": \"West Virginia\", \"55\": \"Wisconsin\",\n",
    "    \"56\": \"Wyoming\", \"91\": \"Northeast Region\", \"92\": \"Midwest Region\", \"93\": \"South Region\", \"94\": \"West Region\", \"99\": \"United States\"}\n",
    "\n",
    "# Dictionary to change values in Type of beverage Column\n",
    "type_of_beverage = { '1': 'Spirits', '2': 'Wine', '3': 'Beer', '4': 'All beverages'}\n",
    "\n",
    "# List with Column Names\n",
    "column_names = ['Year','State','Type of beverage','Gallons of beverage','Gallons of ethanol (absolute alcohol)',\n",
    "                'Population (age 14 and older)','Gallons of ethanol per capita age 14 and older',\n",
    "                'Decile for per capita consumption age 14 and older','Population (age 21 and older)',\n",
    "                'Gallons of ethanol per capita age 21 and older','Decile for per capita consumption age 21 and older',\n",
    "                'Type of data source','Time-varying alcohol by volume (ABV)','Gallons of ethanol derived from time-varying ABV']"
   ]
  },
  {
   "cell_type": "code",
   "execution_count": 5,
   "id": "18cdecc8-d5c3-4888-9bb7-9d3ebd444159",
   "metadata": {},
   "outputs": [],
   "source": [
    "# Filehandles for input and output file\n",
    "with open(input, 'r') as filehandle, open(cleaned_csv, 'w') as output_csv:\n",
    "\n",
    "# Adding Column Names\n",
    "    output_csv.write(','.join(column_names) + '\\n')\n",
    "\n",
    "# Processing data from line 130 and onwards\n",
    "    for current_line_number, line in enumerate(filehandle, start = 1):\n",
    "        if current_line_number >= line_number:\n",
    "\n",
    "# Detecting any invalid inputs which can cause errors in processing data\n",
    "            if line in ['','\\n','\\t',' ']:\n",
    "                print(f\"{current_line_number} is invalid\")\n",
    "\n",
    "# Removing Spaces and writing N/A for blank values\n",
    "            else:\n",
    "                col1 = line[0:4].strip().replace('.','N/A') or \"N/A\"\n",
    "                col2_fips = line[5:7].strip().replace('.','N/A') or \"N/A\"\n",
    "                col2 = fips_to_state.get(col2_fips, col2_fips)\n",
    "                col3_id = line[8].strip().replace('.','N/A') or \"N/A\"\n",
    "                col3 = type_of_beverage.get(col3_id, col3_id)\n",
    "                col4 = line[10:20].strip().replace('.','N/A') or \"N/A\"\n",
    "                col5 = line[21:30].strip().replace('.','N/A') or \"N/A\"\n",
    "                col6 = line[31:41].strip().replace('.','N/A') or \"N/A\"\n",
    "                col7 = line[42:48].strip().replace('.','N/A') or \"N/A\"\n",
    "                col8 = line[49:51].strip().replace('.','N/A') or \"N/A\"\n",
    "                col9 = line[52:62].strip().replace('.','N/A') or \"N/A\"\n",
    "                col10 = line[63:68].strip().replace('.','N/A') or \"N/A\"\n",
    "                col11 = line[69:71].strip().replace('.','N/A') or \"N/A\"\n",
    "                col12 = line[72].strip().replace('.','N/A') or \"N/A\"\n",
    "                col13 = line[74:77].strip().replace('.','N/A') or \"N/A\"\n",
    "                col14 = line[78:87].strip().replace('.','N/A') or \"N/A\"\n",
    "\n",
    "# Writing data to cleaned_csv file\n",
    "                csv_line = f\"{col1},{col2},{col3},{col4},{col5},{col6},{col7},{col8},{col9},{col10},{col11},{col12},{col13},{col14}\"\n",
    "                output_csv.write(csv_line + \"\\n\")"
   ]
  },
  {
   "cell_type": "markdown",
   "id": "d6ed0750-5155-4d8f-b96a-986ccd90d75d",
   "metadata": {},
   "source": [
    "***\n",
    "## Filtering Data: <a id=\"4\"></a>\n",
    "\n",
    "The cleaned data file contains alcohol consumption data for different type of beverages such as Wine, Spirits, Beer, and All beverages. However, we only need the data for All beverages. This section contains code which can filter the cleaned data file according to the value 'All beverages' in 'Type of beverage'."
   ]
  },
  {
   "cell_type": "code",
   "execution_count": 7,
   "id": "669e7733-696d-4380-846d-6caf77b032be",
   "metadata": {},
   "outputs": [],
   "source": [
    "# Load the cleaned_csv file into a DataFrame\n",
    "df = pd.read_csv(cleaned_csv)\n",
    "\n",
    "# Filter rows based on the 'Type of beverage' column\n",
    "filtered_df = df[df['Type of beverage'] == 'All beverages']\n",
    "\n",
    "# Save the filtered DataFrame to a new CSV file called filtered_csv\n",
    "filtered_df.to_csv(filtered_csv, index=False)"
   ]
  },
  {
   "cell_type": "markdown",
   "id": "16fcbae5-e13a-4abb-b86c-347b43102dd5",
   "metadata": {},
   "source": [
    "***\n",
    "## Sorting Data: <a id=\"5\"></a>\n",
    "\n",
    "This section contains code which is used to drop some columns from the filtered_csv file. We do this since the filtered_csv file contains some empty columns for the rows with All beverages. This code can be modified to include or drop column values according to the user's preferred data."
   ]
  },
  {
   "cell_type": "code",
   "execution_count": 8,
   "id": "2c6f75d4-0604-47e0-8b99-043df7ff4327",
   "metadata": {},
   "outputs": [],
   "source": [
    "import pandas as pd\n",
    "\n",
    "# Load the filtered_csv file into a DataFrame\n",
    "filtered_df = pd.read_csv(filtered_csv)\n",
    "\n",
    "# Drop the specified columns ('Gallons of beverage', 'Type of data source')\n",
    "columns_to_drop = ['Gallons of beverage', 'Type of beverage', 'Type of data source', 'Time-varying alcohol by volume (ABV)']\n",
    "filtered_df = filtered_df.drop(columns=columns_to_drop)\n",
    "\n",
    "# Save the modified DataFrame to sorted_csv and output_tsv file\n",
    "filtered_df.to_csv(sorted_csv, index=False)\n",
    "filtered_df.to_csv(output_tsv, sep='\\t', index=False)"
   ]
  },
  {
   "cell_type": "markdown",
   "id": "ba56b001-a2ac-4063-abf1-accf187d9935",
   "metadata": {},
   "source": [
    "***\n",
    "## Optional Code: <a id=\"6\"></a>\n",
    "\n",
    "The user can make use of the Task5Launch.py program to merge all files of Task 5 with the BFRO dataset. But if the user only wants to add the Alcohol Consumption Data seperately then he/she can do so with the help of the code provided below."
   ]
  },
  {
   "cell_type": "code",
   "execution_count": 10,
   "id": "d8075ff5-993d-4773-b4b6-c15ba748c242",
   "metadata": {},
   "outputs": [],
   "source": [
    "import pandas as pd\n",
    "\n",
    "# Load the TSV file into a DataFrame\n",
    "tsv_df = pd.read_csv(BFRO_tsv, delimiter='\\t')  # assuming TSV, specify delimiter\n",
    "\n",
    "# Load the CSV file into another DataFrame\n",
    "csv_df = pd.read_csv(sorted_csv)\n",
    "\n",
    "# Specify the columns for matching in each DataFrame\n",
    "tsv_columns = {'Year_tsv': 'Fixed Year', 'State_tsv': 'State_x'}\n",
    "csv_columns = {'Year_csv': 'Year', 'State_csv': 'State'}\n",
    "\n",
    "# Merge the two DataFrames on the specified columns\n",
    "merged_df = pd.merge(tsv_df, csv_df, how='left', left_on=[tsv_columns['Year_tsv'], tsv_columns['State_tsv']],\n",
    "                     right_on=[csv_columns['Year_csv'], csv_columns['State_csv']])\n",
    "\n",
    "# Save the merged DataFrame to a new TSV file\n",
    "merged_df.to_csv(merged_tsv, sep='\\t', index=False)"
   ]
  },
  {
   "cell_type": "markdown",
   "id": "370f408b-598e-4cde-9131-9ae75dbdc903",
   "metadata": {},
   "source": [
    "***"
   ]
  }
 ],
 "metadata": {
  "kernelspec": {
   "display_name": "Python 3 (ipykernel)",
   "language": "python",
   "name": "python3"
  },
  "language_info": {
   "codemirror_mode": {
    "name": "ipython",
    "version": 3
   },
   "file_extension": ".py",
   "mimetype": "text/x-python",
   "name": "python",
   "nbconvert_exporter": "python",
   "pygments_lexer": "ipython3",
   "version": "3.12.1"
  }
 },
 "nbformat": 4,
 "nbformat_minor": 5
}
