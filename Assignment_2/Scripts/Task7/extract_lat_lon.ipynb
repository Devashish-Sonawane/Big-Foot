{
 "cells": [
  {
   "cell_type": "code",
   "execution_count": null,
   "id": "f38bd1c1",
   "metadata": {},
   "outputs": [],
   "source": [
    "import requests\n",
    "\n",
    "def get_lat_long(location_name):\n",
    "    \"\"\"\n",
    "    Fetches the latitude and longitude of a given location name using the Geonames.org API.\n",
    "    Adapted based on the observation that a username might not be required for certain types of searches.\n",
    "    \"\"\"\n",
    "    base_url = \"http://api.geonames.org/searchJSON\"\n",
    "    params = {\n",
    "        'q': location_name,\n",
    "        'maxRows': 1,\n",
    "    }\n",
    "    response = requests.get(base_url, params=params)\n",
    "    if response.status_code == 200:\n",
    "        data = response.json()\n",
    "        if data['totalResultsCount'] > 0:\n",
    "            lat = data['geonames'][0]['lat']\n",
    "            lng = data['geonames'][0]['lng']\n",
    "            return lat, lng\n",
    "        else:\n",
    "            return None, None\n",
    "    else:\n",
    "        print(f\"Failed to fetch data for {location_name}, Status code: {response.status_code}\")\n",
    "        return None, None"
   ]
  }
 ],
 "metadata": {
  "kernelspec": {
   "display_name": "Python 3 (ipykernel)",
   "language": "python",
   "name": "python3"
  },
  "language_info": {
   "codemirror_mode": {
    "name": "ipython",
    "version": 3
   },
   "file_extension": ".py",
   "mimetype": "text/x-python",
   "name": "python",
   "nbconvert_exporter": "python",
   "pygments_lexer": "ipython3",
   "version": "3.11.5"
  }
 },
 "nbformat": 4,
 "nbformat_minor": 5
}
